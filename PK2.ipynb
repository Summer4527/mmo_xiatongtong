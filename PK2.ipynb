{
  "nbformat": 4,
  "nbformat_minor": 0,
  "metadata": {
    "colab": {
      "name": "PK2.ipynb",
      "provenance": []
    },
    "kernelspec": {
      "name": "python3",
      "display_name": "Python 3"
    },
    "language_info": {
      "name": "python"
    }
  },
  "cells": [
    {
      "cell_type": "code",
      "source": [
        "import numpy as np\n",
        "import pandas as pd"
      ],
      "metadata": {
        "id": "TU3Kpx1WnPfz"
      },
      "execution_count": 65,
      "outputs": []
    },
    {
      "cell_type": "code",
      "source": [
        "#-*- coding : utf-8 -*-\n",
        "# coding: utf-8\n",
        "import pandas as pd\n",
        "data = pd.read_csv(\"New Task.csv\",encoding=\"unicode_escape\")"
      ],
      "metadata": {
        "id": "1607UgUloVEw"
      },
      "execution_count": 84,
      "outputs": []
    },
    {
      "cell_type": "code",
      "source": [
        "data.keys()"
      ],
      "metadata": {
        "colab": {
          "base_uri": "https://localhost:8080/"
        },
        "id": "SfE8qwgKqdc3",
        "outputId": "0213877d-ac44-4634-f16f-b510c93be54e"
      },
      "execution_count": 85,
      "outputs": [
        {
          "output_type": "execute_result",
          "data": {
            "text/plain": [
              "Index(['News_Headline', 'Link_Of_News', 'Source', 'Stated_On', 'Date',\n",
              "       'Label'],\n",
              "      dtype='object')"
            ]
          },
          "metadata": {},
          "execution_count": 85
        }
      ]
    },
    {
      "cell_type": "code",
      "source": [
        "data = data.drop(columns = ['Link_Of_News','Source','Stated_On','Date'])"
      ],
      "metadata": {
        "id": "3uTFeybrqjKu"
      },
      "execution_count": 88,
      "outputs": []
    },
    {
      "cell_type": "code",
      "source": [
        "import sklearn\n",
        "from sklearn.svm import LinearSVC\n",
        "from sklearn.naive_bayes import MultinomialNB\n",
        "from sklearn.feature_extraction.text import TfidfVectorizer, CountVectorizer\n",
        "from sklearn.model_selection import cross_val_score"
      ],
      "metadata": {
        "id": "Je3g9Hd9qr8U"
      },
      "execution_count": 90,
      "outputs": []
    },
    {
      "cell_type": "code",
      "source": [
        "data = data.dropna()"
      ],
      "metadata": {
        "id": "lgiSz79mquhJ"
      },
      "execution_count": 91,
      "outputs": []
    },
    {
      "cell_type": "code",
      "source": [
        "tfidfv = TfidfVectorizer()\n",
        "tfidf_features = tfidfv.fit_transform(data['News_Headline'])\n",
        "tfidf_features"
      ],
      "metadata": {
        "colab": {
          "base_uri": "https://localhost:8080/"
        },
        "id": "s2PrPJ4aqxmb",
        "outputId": "bd0f6021-8553-452a-d684-f9d487903f9b"
      },
      "execution_count": 93,
      "outputs": [
        {
          "output_type": "execute_result",
          "data": {
            "text/plain": [
              "<9960x12545 sparse matrix of type '<class 'numpy.float64'>'\n",
              "\twith 161893 stored elements in Compressed Sparse Row format>"
            ]
          },
          "metadata": {},
          "execution_count": 93
        }
      ]
    },
    {
      "cell_type": "code",
      "source": [
        "countv = CountVectorizer()\n",
        "countv_features = countv.fit_transform(data['News_Headline'])\n",
        "countv_features"
      ],
      "metadata": {
        "colab": {
          "base_uri": "https://localhost:8080/"
        },
        "id": "eNNQ72O0q2YQ",
        "outputId": "a9476a82-a3ed-48fe-bd28-399320cb9e0f"
      },
      "execution_count": 94,
      "outputs": [
        {
          "output_type": "execute_result",
          "data": {
            "text/plain": [
              "<9960x12545 sparse matrix of type '<class 'numpy.int64'>'\n",
              "\twith 161893 stored elements in Compressed Sparse Row format>"
            ]
          },
          "metadata": {},
          "execution_count": 94
        }
      ]
    },
    {
      "cell_type": "code",
      "source": [
        "y = data['Label'].values"
      ],
      "metadata": {
        "id": "xn5dXEGJq4HQ"
      },
      "execution_count": 95,
      "outputs": []
    },
    {
      "cell_type": "code",
      "source": [
        "cross_val_score(LinearSVC(), tfidf_features, y, scoring='accuracy', cv=3).mean()"
      ],
      "metadata": {
        "colab": {
          "base_uri": "https://localhost:8080/"
        },
        "id": "VhtsI8uFq636",
        "outputId": "7b922826-d481-4824-831e-550ec606312a"
      },
      "execution_count": 96,
      "outputs": [
        {
          "output_type": "execute_result",
          "data": {
            "text/plain": [
              "0.23423694779116466"
            ]
          },
          "metadata": {},
          "execution_count": 96
        }
      ]
    },
    {
      "cell_type": "code",
      "source": [
        "cross_val_score(LinearSVC(), countv_features, y, scoring='accuracy', cv=3).mean()"
      ],
      "metadata": {
        "colab": {
          "base_uri": "https://localhost:8080/"
        },
        "id": "pCM9qEQXq9sW",
        "outputId": "deddaf52-91bc-44f5-9d26-aa4c92bfe500"
      },
      "execution_count": 97,
      "outputs": [
        {
          "output_type": "execute_result",
          "data": {
            "text/plain": [
              "0.21947791164658634"
            ]
          },
          "metadata": {},
          "execution_count": 97
        }
      ]
    },
    {
      "cell_type": "code",
      "source": [
        "cross_val_score(MultinomialNB(), tfidf_features, y, scoring='accuracy', cv=3).mean()"
      ],
      "metadata": {
        "colab": {
          "base_uri": "https://localhost:8080/"
        },
        "id": "WX1VrSt1q_ic",
        "outputId": "4d1b836c-4c5e-4a4c-e17c-827f79819890"
      },
      "execution_count": 98,
      "outputs": [
        {
          "output_type": "execute_result",
          "data": {
            "text/plain": [
              "0.2498995983935743"
            ]
          },
          "metadata": {},
          "execution_count": 98
        }
      ]
    },
    {
      "cell_type": "code",
      "source": [
        "cross_val_score(MultinomialNB(), countv_features, y, scoring='accuracy', cv=3).mean()"
      ],
      "metadata": {
        "colab": {
          "base_uri": "https://localhost:8080/"
        },
        "id": "D1lk6sHMrBab",
        "outputId": "9469996c-3054-4d84-830a-a9f7b1e5035a"
      },
      "execution_count": 99,
      "outputs": [
        {
          "output_type": "execute_result",
          "data": {
            "text/plain": [
              "0.2545180722891566"
            ]
          },
          "metadata": {},
          "execution_count": 99
        }
      ]
    },
    {
      "cell_type": "markdown",
      "source": [
        "Лучший accuracy достигается при сочитании MultinomialNB и countv vectorizer\n",
        "\n"
      ],
      "metadata": {
        "id": "fKfxVxRzrVCQ"
      }
    }
  ]
}